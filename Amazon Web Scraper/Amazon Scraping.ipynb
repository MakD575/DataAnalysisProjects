{
 "cells": [
  {
   "cell_type": "code",
   "execution_count": 2,
   "id": "1acb51ff-d275-47e3-b28d-0aa1664ce399",
   "metadata": {},
   "outputs": [],
   "source": [
    "from bs4 import BeautifulSoup\n",
    "import requests\n",
    "import time\n",
    "import datetime\n",
    "import pandas as pd\n",
    "\n",
    "import smtplib"
   ]
  },
  {
   "cell_type": "code",
   "execution_count": 4,
   "id": "70603269-51aa-48b6-baa8-a7d512f0e6cc",
   "metadata": {},
   "outputs": [
    {
     "name": "stdout",
     "output_type": "stream",
     "text": [
      "Got Data Funny Business Data Analyst T-Shirt\n",
      "$15.99\n"
     ]
    }
   ],
   "source": [
    "# Connect to Website\n",
    "\n",
    "URL = 'https://www.amazon.com/Funny-Data-Systems-Business-Analyst/dp/B07FNW9FGJ/ref=sr_1_3?dchild=1&keywords=data%2Banalyst%2Btshirt&qid=1626655184&sr=8-3&customId=B0752XJYNL&th=1'\n",
    "\n",
    "headers = {\"Accept-Language\": \"en-US,en;q=0.9,pl;q=0.8\", \"User-Agent\": \"Mozilla/5.0 (Windows NT 10.0; Win64; x64) AppleWebKit/537.36 (KHTML, like Gecko) Chrome/132.0.0.0 Safari/537.36\"}\n",
    "\n",
    "page = requests.get(URL, headers = headers)\n",
    "\n",
    "soup1 = BeautifulSoup(page.content, \"html.parser\")\n",
    "\n",
    "soup2 = BeautifulSoup(soup1.prettify(), \"html.parser\")\n",
    "\n",
    "title = soup2.find(id='productTitle').get_text(strip=True)\n",
    "\n",
    "price_symbol = soup2.find(class_='a-price-symbol').get_text(strip=True)\n",
    "price_whole = soup2.find(class_='a-price-whole').get_text(strip=True)\n",
    "price_fraction = soup2.find(class_='a-price-fraction').get_text(strip=True)\n",
    "price = f'{price_symbol}{price_whole}{price_fraction}'\n",
    "\n",
    "print(title)\n",
    "print(price)"
   ]
  },
  {
   "cell_type": "code",
   "execution_count": 6,
   "id": "1a63c316-a563-4d2b-a1f7-3248a51f7e74",
   "metadata": {},
   "outputs": [
    {
     "name": "stdout",
     "output_type": "stream",
     "text": [
      "2025-02-28\n"
     ]
    }
   ],
   "source": [
    "import datetime\n",
    "\n",
    "today = datetime.date.today()\n",
    "\n",
    "print(today)"
   ]
  },
  {
   "cell_type": "code",
   "execution_count": 8,
   "id": "eeef2bc2-82b8-4a00-8e51-9f1eb4f256fb",
   "metadata": {},
   "outputs": [],
   "source": [
    "import csv\n",
    "\n",
    "header = ['Title', 'Price', 'Date']\n",
    "\n",
    "data = [title, price, today]\n",
    "\n",
    "with open('AmazonWebScraperDataset.csv', 'w', newline='', encoding='UTF8') as f:\n",
    "    writer = csv.writer(f)\n",
    "    writer.writerow(header)\n",
    "    writer.writerow(data)"
   ]
  },
  {
   "cell_type": "code",
   "execution_count": 10,
   "id": "9f3084f2-0355-47b2-ac2e-1faffffc57e1",
   "metadata": {},
   "outputs": [
    {
     "name": "stdout",
     "output_type": "stream",
     "text": [
      "                                          Title   Price        Date\n",
      "0  Got Data Funny Business Data Analyst T-Shirt  $15.99  2025-02-28\n"
     ]
    }
   ],
   "source": [
    "df = pd.read_csv(r\"C:\\Users\\makar\\AmazonWebScraperDataset.csv\")\n",
    "\n",
    "print(df)"
   ]
  },
  {
   "cell_type": "code",
   "execution_count": 12,
   "id": "d97d02d8-b7f1-4bfc-91f3-93f0157b5a16",
   "metadata": {},
   "outputs": [],
   "source": [
    "#Appending csv data\n",
    "\n",
    "with open('AmazonWebScraperDataset.csv', 'a+', newline='', encoding='UTF8') as f:\n",
    "    writer = csv.writer(f)\n",
    "    writer.writerow(data)"
   ]
  },
  {
   "cell_type": "code",
   "execution_count": 14,
   "id": "36f9110f-a748-4d03-a93e-1d12a31293ca",
   "metadata": {},
   "outputs": [],
   "source": [
    "def check_price():\n",
    "    URL = 'https://www.amazon.com/Funny-Data-Systems-Business-Analyst/dp/B07FNW9FGJ/ref=sr_1_3?dchild=1&keywords=data%2Banalyst%2Btshirt&qid=1626655184&sr=8-3&customId=B0752XJYNL&th=1'\n",
    "\n",
    "    headers = {\"Accept-Language\": \"en-US,en;q=0.9,pl;q=0.8\", \"User-Agent\": \"Mozilla/5.0 (Windows NT 10.0; Win64; x64) AppleWebKit/537.36 (KHTML, like Gecko) Chrome/132.0.0.0 Safari/537.36\"}\n",
    "\n",
    "    page = requests.get(URL, headers = headers)\n",
    "\n",
    "    soup1 = BeautifulSoup(page.content, \"html.parser\")\n",
    "\n",
    "    soup2 = BeautifulSoup(soup1.prettify(), \"html.parser\")\n",
    "\n",
    "    title = soup2.find(id='productTitle').get_text(strip=True)\n",
    "\n",
    "    price_symbol = soup2.find(class_='a-price-symbol').get_text(strip=True)\n",
    "    price_whole = soup2.find(class_='a-price-whole').get_text(strip=True)\n",
    "    price_fraction = soup2.find(class_='a-price-fraction').get_text(strip=True)\n",
    "    price = f'{price_symbol}{price_whole}{price_fraction}'\n",
    "\n",
    "    import datetime\n",
    "\n",
    "    today = datetime.date.today()\n",
    "\n",
    "    import csv\n",
    "\n",
    "    header = ['Title', 'Price', 'Date']\n",
    "    data = [title, price, today]\n",
    "\n",
    "    with open('AmazonWebScraperDataset.csv', 'a+', newline='', encoding='UTF8') as f:\n",
    "        writer = csv.writer(f)\n",
    "        writer.writerow(data)"
   ]
  },
  {
   "cell_type": "code",
   "execution_count": null,
   "id": "63498f74-f831-4738-ba5a-20a38021f958",
   "metadata": {
    "scrolled": true
   },
   "outputs": [],
   "source": [
    "while(True):\n",
    "    check_price()\n",
    "    time.sleep(5)"
   ]
  },
  {
   "cell_type": "code",
   "execution_count": 64,
   "id": "f783b20f-1ac5-41a3-8e0e-c901e46850f8",
   "metadata": {},
   "outputs": [
    {
     "name": "stdout",
     "output_type": "stream",
     "text": [
      "                                           Title   Price        Date\n",
      "0   Got Data Funny Business Data Analyst T-Shirt  $15.99  2025-02-18\n",
      "1   Got Data Funny Business Data Analyst T-Shirt  $15.99  2025-02-19\n",
      "2   Got Data Funny Business Data Analyst T-Shirt  $15.99  2025-02-19\n",
      "3   Got Data Funny Business Data Analyst T-Shirt  $15.99  2025-02-19\n",
      "4   Got Data Funny Business Data Analyst T-Shirt  $15.99  2025-02-19\n",
      "5   Got Data Funny Business Data Analyst T-Shirt  $15.99  2025-02-19\n",
      "6   Got Data Funny Business Data Analyst T-Shirt  $15.99  2025-02-19\n",
      "7   Got Data Funny Business Data Analyst T-Shirt  $15.99  2025-02-19\n",
      "8   Got Data Funny Business Data Analyst T-Shirt  $15.99  2025-02-19\n",
      "9   Got Data Funny Business Data Analyst T-Shirt  $15.99  2025-02-19\n",
      "10  Got Data Funny Business Data Analyst T-Shirt  $15.99  2025-02-19\n",
      "11  Got Data Funny Business Data Analyst T-Shirt  $15.99  2025-02-19\n",
      "12  Got Data Funny Business Data Analyst T-Shirt  $15.99  2025-02-19\n",
      "13  Got Data Funny Business Data Analyst T-Shirt  $15.99  2025-02-19\n",
      "14  Got Data Funny Business Data Analyst T-Shirt  $15.99  2025-02-19\n",
      "15  Got Data Funny Business Data Analyst T-Shirt  $15.99  2025-02-19\n",
      "16  Got Data Funny Business Data Analyst T-Shirt  $15.99  2025-02-19\n",
      "17  Got Data Funny Business Data Analyst T-Shirt  $15.99  2025-02-19\n",
      "18  Got Data Funny Business Data Analyst T-Shirt  $15.99  2025-02-19\n",
      "19  Got Data Funny Business Data Analyst T-Shirt  $15.99  2025-02-19\n",
      "20  Got Data Funny Business Data Analyst T-Shirt  $15.99  2025-02-19\n",
      "21  Got Data Funny Business Data Analyst T-Shirt  $15.99  2025-02-19\n",
      "22  Got Data Funny Business Data Analyst T-Shirt  $15.99  2025-02-19\n",
      "23  Got Data Funny Business Data Analyst T-Shirt  $15.99  2025-02-19\n",
      "24  Got Data Funny Business Data Analyst T-Shirt  $15.99  2025-02-19\n",
      "25  Got Data Funny Business Data Analyst T-Shirt  $15.99  2025-02-19\n",
      "26  Got Data Funny Business Data Analyst T-Shirt  $15.99  2025-02-19\n",
      "27  Got Data Funny Business Data Analyst T-Shirt  $15.99  2025-02-19\n"
     ]
    }
   ],
   "source": [
    "df = pd.read_csv(r\"C:\\Users\\makar\\AmazonWebScraperDataset.csv\")\n",
    "\n",
    "print(df)"
   ]
  },
  {
   "cell_type": "code",
   "execution_count": null,
   "id": "f05ca328-f119-4fd6-94cb-4ca9353a4bc5",
   "metadata": {},
   "outputs": [],
   "source": []
  }
 ],
 "metadata": {
  "kernelspec": {
   "display_name": "Python [conda env:base] *",
   "language": "python",
   "name": "conda-base-py"
  },
  "language_info": {
   "codemirror_mode": {
    "name": "ipython",
    "version": 3
   },
   "file_extension": ".py",
   "mimetype": "text/x-python",
   "name": "python",
   "nbconvert_exporter": "python",
   "pygments_lexer": "ipython3",
   "version": "3.12.7"
  }
 },
 "nbformat": 4,
 "nbformat_minor": 5
}
